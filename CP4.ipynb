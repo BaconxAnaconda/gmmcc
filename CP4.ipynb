{
 "cells": [
  {
   "cell_type": "code",
   "execution_count": 2,
   "id": "e7ac7c33",
   "metadata": {},
   "outputs": [
    {
     "name": "stdout",
     "output_type": "stream",
     "text": [
      "1\n",
      "2\n",
      "3\n",
      "(1, 2, 3)\n"
     ]
    }
   ],
   "source": [
    "class Point3D:\n",
    "     def _init_(self,x,y,z):\n",
    "         self.x= x\n",
    "         self.y= y\n",
    "         self.z= z\n",
    "         return self.x,self.y,self.z\n",
    "def my_pointcontaining(x,y,z):\n",
    "        return(x,y,z)\n",
    "x=int(input())\n",
    "y=int(input())\n",
    "z=int(input())\n",
    "print(my_pointcontaining(x,y,z))"
   ]
  },
  {
   "cell_type": "code",
   "execution_count": 9,
   "id": "acca4261",
   "metadata": {},
   "outputs": [
    {
     "name": "stdout",
     "output_type": "stream",
     "text": [
      "le perimètre est de 14\n",
      "l'aire est de 12\n"
     ]
    }
   ],
   "source": [
    "class Rectangle:\n",
    "    def __init__(self, width, length):\n",
    "        self.length = length\n",
    "        self.width = width   \n",
    "    def calculate_perimeter(self):\n",
    "        \n",
    "        return 2 * (self.width + self.length)\n",
    "    def calculate_aire(self):\n",
    "        \n",
    "        return (self.width * self.length)\n",
    "    \n",
    "my_rectangle = Rectangle(3, 4)\n",
    "\n",
    "print (\"le perimètre est de\", my_rectangle.calculate_perimeter())\n",
    "print (\"l'aire est de\", my_rectangle.calculate_aire())\n"
   ]
  },
  {
   "cell_type": "code",
   "execution_count": 4,
   "id": "b77fe3aa",
   "metadata": {},
   "outputs": [
    {
     "name": "stdout",
     "output_type": "stream",
     "text": [
      "Enter radius4\n",
      "l'aire est de  50\n",
      "le périmètre est de  25\n",
      "3\n",
      "4\n",
      "Outside\n"
     ]
    }
   ],
   "source": [
    "import math\n",
    "class Circle():\n",
    "    def __init__(self, r):\n",
    "        self.radius = r\n",
    "    def area(self):\n",
    "        return round(self.radius**2*math.pi)\n",
    "    def perimeter(self):\n",
    "        return round(2*self.radius*math.pi)\n",
    "\n",
    "radi = int(input(\"Enter radius\"))\n",
    "new_Circle = Circle(radi)\n",
    "print(\"l'aire est de \", new_Circle.area())\n",
    "print(\"le périmètre est de \", new_Circle.perimeter())\n",
    "def isInside(new_circle_x, new_circle_y, rad, x, y):\n",
    "    if ((a_x - new_circle_x) * (a_x - new_circle_x) +\n",
    "        (a_y - new_circle_y) * (a_y - new_circle_y) <= rad * rad):\n",
    "        return True;\n",
    "    else:\n",
    "        return False;\n",
    "a_x = int(input());\n",
    "a_y = int(input());\n",
    "new_circle_x = 0;\n",
    "new_circle_y = 1;\n",
    "rad = radi;\n",
    "if(isInside(new_circle_x, new_circle_y, rad, a_x, a_y)):\n",
    "    print(\"Inside\");\n",
    "else:\n",
    "    print(\"Outside\");"
   ]
  },
  {
   "cell_type": "code",
   "execution_count": 8,
   "id": "43d9d808",
   "metadata": {},
   "outputs": [
    {
     "name": "stdout",
     "output_type": "stream",
     "text": [
      "Enter amount to be deposited: 254\n",
      "Amount deposited: 254.0\n",
      "Enter amount to be withdrawn: 255\n",
      "Insufficient balance\n"
     ]
    }
   ],
   "source": [
    "class bank_account:\n",
    "\tdef __init__(self):\n",
    "\t\tself.balance=0\n",
    "\tdef deposit(self):\n",
    "\t\tval=float(input(\"Enter amount to be deposited: \"))\n",
    "\t\tself.balance += val\n",
    "\t\tprint(\"Amount deposited:\",val)\n",
    "\tdef withdraw(self):\n",
    "\t\tval = float(input(\"Enter amount to be withdrawn: \"))\n",
    "\t\tif self.balance>=val:\n",
    "\t\t\tself.balance-=val\n",
    "\t\t\tprint(\"\\n withdrewed:\", val)\n",
    "\t\telse:\n",
    "\t\t\tprint(\"Insufficient balance\")\n",
    "s = bank_account()\n",
    "s.deposit()\n",
    "s.withdraw()"
   ]
  },
  {
   "cell_type": "code",
   "execution_count": null,
   "id": "7a3a4b9b",
   "metadata": {},
   "outputs": [],
   "source": []
  }
 ],
 "metadata": {
  "kernelspec": {
   "display_name": "Python 3",
   "language": "python",
   "name": "python3"
  },
  "language_info": {
   "codemirror_mode": {
    "name": "ipython",
    "version": 3
   },
   "file_extension": ".py",
   "mimetype": "text/x-python",
   "name": "python",
   "nbconvert_exporter": "python",
   "pygments_lexer": "ipython3",
   "version": "3.8.8"
  }
 },
 "nbformat": 4,
 "nbformat_minor": 5
}
